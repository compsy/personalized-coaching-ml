{
 "cells": [
  {
   "cell_type": "markdown",
   "metadata": {},
   "source": [
    "Grouplevel test of accuracy and F1-score of 8 algorithms."
   ]
  },
  {
   "cell_type": "code",
   "execution_count": 27,
   "metadata": {
    "collapsed": false,
    "scrolled": true
   },
   "outputs": [
    {
     "name": "stdout",
     "output_type": "stream",
     "text": [
      "ADA: 0.854157 (0.001626)\n",
      "DT: 0.804220 (0.003006)\n",
      "KNN: 0.829826 (0.005544)\n",
      "LR: 0.825725 (0.008487)\n",
      "NN: 0.852797 (0.002938)\n",
      "RF: 0.819065 (0.003840)\n",
      "SGD: 0.853575 (0.004574)\n",
      "SVC: 0.856341 (0.002405)\n"
     ]
    },
    {
     "name": "stderr",
     "output_type": "stream",
     "text": [
      "C:\\Users\\talko\\Anaconda3\\lib\\site-packages\\sklearn\\utils\\validation.py:429: DataConversionWarning: Data with input dtype int64 was converted to float64 by MinMaxScaler.\n",
      "  warnings.warn(msg, _DataConversionWarning)\n"
     ]
    }
   ],
   "source": [
    "# Compare Algorithms to determine which algorithms should be tuned\n",
    "import cx_Oracle\n",
    "import pandas as pd\n",
    "import numpy as np\n",
    "import time\n",
    "    \n",
    "import pandas\n",
    "import matplotlib.pyplot as plt\n",
    "from sklearn.svm import LinearSVC\n",
    "from sklearn import model_selection\n",
    "from sklearn.linear_model import LogisticRegression\n",
    "from sklearn.tree import DecisionTreeClassifier\n",
    "from sklearn.neighbors import KNeighborsClassifier\n",
    "from sklearn.discriminant_analysis import LinearDiscriminantAnalysis\n",
    "from sklearn.naive_bayes import GaussianNB\n",
    "from sklearn.svm import SVC\n",
    "from sklearn.naive_bayes import MultinomialNB\n",
    "from sklearn.naive_bayes import BernoulliNB\n",
    "from sklearn import linear_model\n",
    "from sklearn.linear_model import PassiveAggressiveClassifier\n",
    "from sklearn.ensemble import AdaBoostClassifier\n",
    "from sklearn.neural_network import MLPClassifier\n",
    "from sklearn.ensemble import RandomForestClassifier\n",
    "from sklearn import ensemble\n",
    "from sklearn.preprocessing import MinMaxScaler\n",
    "from sklearn import preprocessing\n",
    "from sklearn.model_selection import train_test_split, GridSearchCV\n",
    "\n",
    "%matplotlib inline\n",
    "\n",
    "con = cx_Oracle.connect('hanzefitbit/hanzefitbit@127.0.0.1/xe')\n",
    "\n",
    "# load dataset\n",
    "#select data from measurements\n",
    "#added case to select only the weeks where coaching took place research group 1 started in week 5 with coaching, research group 2 started in week 16 with coaching\n",
    "cur = con.cursor()\n",
    "cur.execute('select id,treatment_id,year,week,weekday,hour,sum_steps, sum_steps_hour,daily_steps from hft_sum_steps_v where \\\n",
    "             hour in (7,8,9,10,11,12,13,14,15,16,17,18) \\\n",
    "             and weekday not in (5,6) and year=2015 and (case when research_group=2 and week>15 then 1 when research_group=1 and week>4 then 1 else 0 end = 1)\\\n",
    "             order by year,week,weekday,hour')     \n",
    "df_dataframe= pd.DataFrame(cur.fetchall(),columns=['id','treatment_id','year','week','weekday','hour','sum_steps','sum_steps_hour','daily_steps'])\n",
    "#cur.close()\n",
    "\n",
    "#select avg steps per day \n",
    "cur = con.cursor()\n",
    "cur.execute( 'select avg(sum_steps_hour) avg_daily_steps from hft_sum_steps_v where\\\n",
    "              year=2015 and hour=18 and weekday not in (5,6) and (case when research_group=2 and week>15 then 1 when research_group=1 and week>4 then 1 else 0 end = 1)\\\n",
    "              ')\n",
    "df_threshold= pd.DataFrame(cur.fetchall(),columns=['avg_daily_steps'])\n",
    "cur.close()\n",
    "\n",
    "#function to determine if people have reached their goal of the day\n",
    "\n",
    "def daily_steps_cat_f (steps_value,threshold):\n",
    "    if (steps_value<threshold):\n",
    "        #print('smaller then threshold')\n",
    "        return 0\n",
    "    if (steps_value>=threshold):\n",
    "        #print('more then threshold')\n",
    "        return 1\n",
    "\n",
    "#determine category.\n",
    "\n",
    "x=df_dataframe['daily_steps']\n",
    "y=df_threshold['avg_daily_steps']\n",
    "df_dataframe['dailysteps_cat']=np.vectorize(daily_steps_cat_f)(x, y)\n",
    "\n",
    "#make datasets\n",
    "X= df_dataframe.iloc[:, 5:8].values\n",
    "y=df_dataframe.iloc[:, 9].values\n",
    "min_max_scaler = preprocessing.MinMaxScaler()\n",
    "np_scaled = min_max_scaler.fit_transform(X)\n",
    "X_scaled = pd.DataFrame(np_scaled)\n",
    "\n",
    "X_train_s,X_test_s,y_train,y_test=train_test_split(X_scaled,y, test_size=0.3, random_state=10)    \n",
    "X_train,X_test,y_train,y_test=train_test_split(X,y, test_size=0.3, random_state=10)    \n",
    "\n",
    "# prepare models\n",
    "models = []\n",
    "models.append(('ADA',AdaBoostClassifier()))\n",
    "models.append(('DT', DecisionTreeClassifier()))\n",
    "models.append(('KNN', KNeighborsClassifier()))\n",
    "models.append(('LR', LogisticRegression()))\n",
    "models.append(('NN',MLPClassifier()))\n",
    "models.append(('RF',RandomForestClassifier()))\n",
    "models.append(('SGD',linear_model.SGDClassifier()))\n",
    "models.append(('SVC',SVC()))\n",
    "\n",
    "\n",
    "\n",
    "\n",
    "\n",
    "\n",
    "results = []\n",
    "names = []\n",
    "scoring = 'f1'\n",
    "for name, model in models:\n",
    "    kfold = model_selection.KFold(n_splits=5, random_state=7)\n",
    "    if name in ('SVC','SGD','KNN','NN'):\n",
    "        cv_results = model_selection.cross_val_score(model, X_train_s, y_train, cv=kfold, scoring=scoring)\n",
    "    else:\n",
    "        cv_results = model_selection.cross_val_score(model, X_train, y_train, cv=kfold, scoring=scoring)\n",
    "    results.append(cv_results)\n",
    "    names.append(name)\n",
    "    msg = \"%s: %f (%f)\" % (name, cv_results.mean(), cv_results.std())\n",
    "    print(msg)\n"
   ]
  },
  {
   "cell_type": "code",
   "execution_count": 26,
   "metadata": {
    "collapsed": false
   },
   "outputs": [
    {
     "name": "stdout",
     "output_type": "stream",
     "text": [
      "ADA: 0.776623 (0.002080)\n",
      "DT: 0.720535 (0.004787)\n",
      "KNN: 0.749171 (0.005683)\n",
      "LR: 0.742125 (0.009821)\n",
      "NN: 0.777774 (0.001545)\n",
      "RF: 0.737451 (0.003210)\n",
      "SGD: 0.767623 (0.005490)\n",
      "SVC: 0.770728 (0.002505)\n"
     ]
    },
    {
     "name": "stderr",
     "output_type": "stream",
     "text": [
      "C:\\Users\\talko\\Anaconda3\\lib\\site-packages\\sklearn\\neural_network\\multilayer_perceptron.py:565: UserWarning: Training interrupted by user.\n",
      "  warnings.warn(\"Training interrupted by user.\")\n"
     ]
    }
   ],
   "source": [
    "# boxplot algorithm comparison\n",
    "results = []\n",
    "names = []\n",
    "scoring = 'accuracy'\n",
    "for name, model in models:\n",
    "    kfold = model_selection.KFold(n_splits=5, random_state=7)\n",
    "    if name in ('SVC','SGD','KNN','NN'):\n",
    "        cv_results = model_selection.cross_val_score(model, X_train_s, y_train, cv=kfold, scoring=scoring)\n",
    "    else:\n",
    "        cv_results = model_selection.cross_val_score(model, X_train, y_train, cv=kfold, scoring=scoring)\n",
    "    results.append(cv_results)\n",
    "    names.append(name)\n",
    "    msg = \"%s: %f (%f)\" % (name, cv_results.mean(), cv_results.std())\n",
    "    print(msg)\n",
    "    \n"
   ]
  },
  {
   "cell_type": "code",
   "execution_count": 28,
   "metadata": {
    "collapsed": false
   },
   "outputs": [
    {
     "data": {
      "image/png": "[encoded data removed]",
      "text/plain": [
       "<matplotlib.figure.Figure at 0x161f617f240>"
      ]
     },
     "metadata": {},
     "output_type": "display_data"
    }
   ],
   "source": [
    "# boxplot algorithm comparison\n",
    "fig = plt.figure()\n",
    "#fig.suptitle('Algorithm F1-score Comparison')\n",
    "ax = fig.add_subplot(111)\n",
    "plt.boxplot(results)\n",
    "ax.set_xticklabels(names)\n",
    "plt.show()"
   ]
  },
  {
   "cell_type": "code",
   "execution_count": null,
   "metadata": {
    "collapsed": true
   },
   "outputs": [],
   "source": []
  }
 ],
 "metadata": {
  "kernelspec": {
   "display_name": "Python 3",
   "language": "python",
   "name": "python3"
  },
  "language_info": {
   "codemirror_mode": {
    "name": "ipython",
    "version": 3
   },
   "file_extension": ".py",
   "mimetype": "text/x-python",
   "name": "python",
   "nbconvert_exporter": "python",
   "pygments_lexer": "ipython3",
   "version": "3.5.2"
  }
 },
 "nbformat": 4,
 "nbformat_minor": 0
}
